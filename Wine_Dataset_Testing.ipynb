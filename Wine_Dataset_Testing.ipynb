{
  "nbformat": 4,
  "nbformat_minor": 0,
  "metadata": {
    "colab": {
      "provenance": [],
      "authorship_tag": "ABX9TyPIw3H/agdDdo2MmWMzGx9q",
      "include_colab_link": true
    },
    "kernelspec": {
      "name": "python3",
      "display_name": "Python 3"
    },
    "language_info": {
      "name": "python"
    }
  },
  "cells": [
    {
      "cell_type": "markdown",
      "metadata": {
        "id": "view-in-github",
        "colab_type": "text"
      },
      "source": [
        "<a href=\"https://colab.research.google.com/github/alterniko444/wine-testing/blob/main/Wine_Dataset_Testing.ipynb\" target=\"_parent\"><img src=\"https://colab.research.google.com/assets/colab-badge.svg\" alt=\"Open In Colab\"/></a>"
      ]
    },
    {
      "cell_type": "code",
      "execution_count": null,
      "metadata": {
        "colab": {
          "base_uri": "https://localhost:8080/"
        },
        "id": "pV51ulcB7kWI",
        "outputId": "31ee150a-2e27-4f11-aff7-52f5faced028"
      },
      "outputs": [
        {
          "output_type": "stream",
          "name": "stdout",
          "text": [
            "Feature names: ['alcohol', 'malic_acid', 'ash', 'alcalinity_of_ash', 'magnesium', 'total_phenols', 'flavanoids', 'nonflavanoid_phenols', 'proanthocyanins', 'color_intensity', 'hue', 'od280/od315_of_diluted_wines', 'proline']\n",
            "Target names: ['class_0' 'class_1' 'class_2']\n",
            "(106, 13)\n",
            "(72, 13)\n",
            "(106,)\n",
            "(72,)\n",
            "0.6805555555555556\n"
          ]
        }
      ],
      "source": [
        "#Wine recognition data set\n",
        "from sklearn.datasets import load_wine\n",
        "wine = load_wine()\n",
        "X = wine.data\n",
        "Y = wine.target\n",
        "feature_names = wine.feature_names\n",
        "target_names = wine.target_names\n",
        "print('Feature names:' ,feature_names)\n",
        "print('Target names:', target_names)\n",
        "from sklearn.model_selection import train_test_split\n",
        "X_train, X_test, Y_train, Y_test = train_test_split(X,Y,test_size =0.4, random_state =1)\n",
        "from sklearn.neighbors import KNeighborsClassifier\n",
        "knn = KNeighborsClassifier(n_neighbors = 3)\n",
        "knn.fit(X_train,Y_train)\n",
        "Y_pred = knn.predict(X_test)\n",
        "print(X_train.shape)\n",
        "print(X_test.shape)\n",
        "print(Y_train.shape)\n",
        "print(Y_test.shape)\n",
        "from sklearn import metrics\n",
        "print(metrics.accuracy_score(Y_test,Y_pred))\n",
        "sample = [[3,2,5,4,1,5,2,3,1,5,2,3,2]]\n",
        "preds = knn.predict(sample)\n",
        "pred_species = [wine.target_names[p] for p in preds]\n",
        "#print(pred_species)\n",
        "\n",
        "import joblib\n",
        "joblib.dump(knn,\"wine_knn.pkl\")\n",
        "knn = joblib.load(\"wine_knn.pkl\")"
      ]
    },
    {
      "cell_type": "code",
      "source": [],
      "metadata": {
        "id": "-BZNrrtO0TJD"
      },
      "execution_count": null,
      "outputs": []
    }
  ]
}